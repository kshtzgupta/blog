{
 "cells": [
  {
   "cell_type": "markdown",
   "metadata": {
    "id": "_Ua8HQiCiKmM",
    "toc": true
   },
   "source": [
    "<h1>Table of Contents<span class=\"tocSkip\"></span></h1>\n",
    "<div class=\"toc\"><ul class=\"toc-item\"><li><span><a href=\"#Using-Functional-API\" data-toc-modified-id=\"Using-Functional-API-1\"><span class=\"toc-item-num\">1&nbsp;&nbsp;</span>Using Functional API</a></span><ul class=\"toc-item\"><li><span><a href=\"#Loss-function\" data-toc-modified-id=\"Loss-function-1.1\"><span class=\"toc-item-num\">1.1&nbsp;&nbsp;</span>Loss function</a></span></li><li><span><a href=\"#Optimizer\" data-toc-modified-id=\"Optimizer-1.2\"><span class=\"toc-item-num\">1.2&nbsp;&nbsp;</span>Optimizer</a></span></li><li><span><a href=\"#Training\" data-toc-modified-id=\"Training-1.3\"><span class=\"toc-item-num\">1.3&nbsp;&nbsp;</span>Training</a></span></li></ul></li><li><span><a href=\"#Using-Sequential-API\" data-toc-modified-id=\"Using-Sequential-API-2\"><span class=\"toc-item-num\">2&nbsp;&nbsp;</span>Using Sequential API</a></span></li></ul></div>"
   ]
  },
  {
   "cell_type": "markdown",
   "metadata": {
    "id": "-xm4cLmLiKmR"
   },
   "source": [
    "# Image Classification using MLP in PyTorch \n",
    "> In this post, we will implement a MLP in Pytorch using both Functional API and Sequential API to classify MNIST digits.\n",
    "\n",
    "- toc: true \n",
    "- badges: true\n",
    "- comments: true\n",
    "- categories: [jupyter]"
   ]
  },
  {
   "cell_type": "markdown",
   "metadata": {
    "id": "3pem1XeuiKmR"
   },
   "source": [
    "Let's first import the standard libraries"
   ]
  },
  {
   "cell_type": "code",
   "execution_count": null,
   "metadata": {
    "colab": {
     "base_uri": "https://localhost:8080/"
    },
    "id": "t9tCMhskiKmS",
    "outputId": "f1ce7ec0-f43d-43ad-b8b9-113604ab0819"
   },
   "outputs": [],
   "source": [
    "import torch\n",
    "from torch import nn, optim\n",
    "from torchvision import datasets, transforms\n",
    "from torch.utils.data import DataLoader\n",
    "import numpy as np\n",
    "\n",
    "\n"
   ]
  },
  {
   "cell_type": "markdown",
   "metadata": {
    "id": "QXTtp2LwiZWJ"
   },
   "source": [
    "# Load Data"
   ]
  },
  {
   "cell_type": "markdown",
   "metadata": {
    "id": "L1E8Qi2diaPA"
   },
   "source": [
    "We will use the MNIST dataset which is a handwritten digits dataset. It contains 60000 training and 10000 testing grayscale 28x28 images from 10 classes (0-9 digits):"
   ]
  },
  {
   "cell_type": "markdown",
   "metadata": {},
   "source": [
    "![](https://www.learnopencv.com/wp-content/uploads/2020/01/c3_w2_Mnist.png \"Credit: learnopencv.com\")"
   ]
  },
  {
   "cell_type": "markdown",
   "metadata": {
    "id": "ZZWaQbzKElcA"
   },
   "source": [
    "Before defining the dataloader we need to think of batch size. We set training batch size to 64. When you are using a GPU, the maximum batch size is dictated by the memory on the GPU. We’ll use a batch size for the validation set that is twice as large as that for the training set. This is because the validation set does not need backpropagation and thus takes less memory (it doesn’t need to store the gradients). We take advantage of this to use a larger batch size and compute the loss more quickly."
   ]
  },
  {
   "cell_type": "code",
   "execution_count": 22,
   "metadata": {
    "id": "McbI4s5ziKmT"
   },
   "outputs": [],
   "source": [
    "# Training set\n",
    "train_dataset = datasets.MNIST('./data', \n",
    "                               train=True, \n",
    "                               download=True, \n",
    "                               transform=transforms.ToTensor())\n",
    "\n",
    "# Validation dataset\n",
    "validation_dataset = datasets.MNIST('./data', \n",
    "                                    train=False, \n",
    "                                    transform=transforms.ToTensor())\n",
    "\n",
    "# Batch size : How many images are used to calculate the gradient\n",
    "batch_size = 64\n",
    "\n",
    "# Train DataLoader \n",
    "train_loader = DataLoader(dataset=train_dataset, \n",
    "                          batch_size=batch_size, \n",
    "                          shuffle=True)\n",
    "# Validation DataLoader \n",
    "val_loader = DataLoader(dataset=validation_dataset, \n",
    "                               batch_size=2*batch_size, \n",
    "                               shuffle=False)"
   ]
  },
  {
   "cell_type": "markdown",
   "metadata": {
    "id": "rMRqC9p-i_-w"
   },
   "source": [
    "# Create the MLP\n",
    "\n",
    "Here we define the multi layer perceptron. It has 2 hidden layers with 512 units. Also note that the input layer has 28x28 nodes which is the size of the flattened data. Given below is the schematic diagram of the network.\n"
   ]
  },
  {
   "cell_type": "markdown",
   "metadata": {},
   "source": [
    "![](https://www.learnopencv.com/wp-content/uploads/2017/10/mlp-mnist-schematic.jpg \"Credit: learnopencv.com\")"
   ]
  },
  {
   "cell_type": "markdown",
   "metadata": {
    "id": "VfJFsUgqjxgH"
   },
   "source": [
    "## Using Functional API"
   ]
  },
  {
   "cell_type": "code",
   "execution_count": 23,
   "metadata": {
    "id": "tzjEtzyQjxUc"
   },
   "outputs": [],
   "source": [
    "class functionalMLP(nn.Module):\n",
    "    def __init__(self, n_input, n_hid1, n_hid2, n_output):\n",
    "        super().__init__()\n",
    "        self.hidden1 = nn.Linear(n_input, n_hid1)\n",
    "        self.hidden2 = nn.Linear(n_hid1, n_hid2)\n",
    "        self.output = nn.Linear(n_hid2, n_output)\n",
    "        self.relu = nn.ReLU()\n",
    "\n",
    "    def forward(self, x):\n",
    "        # x shape is [batch_size, 1, 28, 28]\n",
    "        batch_size = x.shape[0]\n",
    "        x = x.view(batch_size, -1)\n",
    "        # x shape is [batch_size, 28*28]\n",
    "        x = self.relu(self.hidden1(x))\n",
    "        x = self.relu(self.hidden2(x))\n",
    "        x = self.output(x)\n",
    "        return x"
   ]
  },
  {
   "cell_type": "code",
   "execution_count": 24,
   "metadata": {
    "id": "nAEy2oMEoq5y"
   },
   "outputs": [],
   "source": [
    "model_functional = functionalMLP(n_input=28*28, n_hid1=512, n_hid2=512, n_output=10)"
   ]
  },
  {
   "cell_type": "markdown",
   "metadata": {
    "id": "GrWwkNMi771f"
   },
   "source": [
    "### Loss function\n",
    "\n",
    "Since this is classification problem we can use the Cross Entropy Loss available in PyTorch as [`nn.CrossEntropyLoss`](https://pytorch.org/docs/stable/generated/torch.nn.CrossEntropyLoss.html)"
   ]
  },
  {
   "cell_type": "code",
   "execution_count": 25,
   "metadata": {
    "id": "dX2CbTK3pkqD"
   },
   "outputs": [],
   "source": [
    "loss_func = nn.CrossEntropyLoss()"
   ]
  },
  {
   "cell_type": "markdown",
   "metadata": {
    "id": "-gA4y0wq95Om"
   },
   "source": [
    "### Optimizer\n",
    "\n",
    "We define the optimizer as SGD using learning rate of 1e-2"
   ]
  },
  {
   "cell_type": "code",
   "execution_count": 26,
   "metadata": {
    "id": "9DGfZCR1B1eg"
   },
   "outputs": [],
   "source": [
    "def get_opt(model, lr=0.001):\n",
    "    opt = optim.SGD(model.parameters(), lr=lr)\n",
    "    return opt"
   ]
  },
  {
   "cell_type": "code",
   "execution_count": 27,
   "metadata": {
    "id": "x70tjjoQqH9-"
   },
   "outputs": [],
   "source": [
    "opt = get_opt(model_functional)"
   ]
  },
  {
   "cell_type": "markdown",
   "metadata": {
    "id": "GIMf-eDe-Xjb"
   },
   "source": [
    "### Training"
   ]
  },
  {
   "cell_type": "markdown",
   "metadata": {
    "id": "PQxB6on0tFqf"
   },
   "source": [
    "We will define a loss_batch function that encapsulates the backpropogation process for training and loss calculation for validation. This function will also calculate accuracy for us."
   ]
  },
  {
   "cell_type": "code",
   "execution_count": 28,
   "metadata": {
    "id": "yVV9HU0Asm36"
   },
   "outputs": [],
   "source": [
    "def loss_batch(logits, y_batch, loss_func, opt=None):\n",
    "    # calculate loss\n",
    "    loss = loss_func(logits, y_batch)\n",
    "    # calculate accuracy\n",
    "    preds = logits.argmax(dim=1)\n",
    "    acc = (preds == y_batch).sum()\n",
    "\n",
    "    # only if we are training then perform the weights update\n",
    "    if opt is not None:\n",
    "        loss.backward()\n",
    "        opt.step()\n",
    "        opt.zero_grad()\n",
    "    \n",
    "    return loss.item(), acc.item()"
   ]
  },
  {
   "cell_type": "markdown",
   "metadata": {
    "id": "uLDrwe6DtbSX"
   },
   "source": [
    "Next we define a fit function that can handle both training and validation"
   ]
  },
  {
   "cell_type": "code",
   "execution_count": 29,
   "metadata": {
    "id": "fwaxjpnlpfzv"
   },
   "outputs": [],
   "source": [
    "def fit(epochs, train_loader, val_loader, model, loss_func, opt):\n",
    "    for ep in range(epochs):\n",
    "        # Training\n",
    "        train_losses = []\n",
    "        train_n_correct = 0\n",
    "        model.train()\n",
    "        for x_batch, y_batch in train_loader:\n",
    "            logits = model(x_batch)\n",
    "            loss, acc = loss_batch(logits, y_batch, loss_func, opt)\n",
    "            train_losses.append(loss)\n",
    "            train_n_correct += acc\n",
    "        train_loss = np.sum(train_losses)/len(train_loader)\n",
    "        train_acc = train_n_correct/len(train_loader.dataset)\n",
    "        \n",
    "        # Validation\n",
    "        model.eval()\n",
    "        val_losses = []\n",
    "        val_n_correct = 0\n",
    "        with torch.no_grad():\n",
    "            for x_batch, y_batch in val_loader:\n",
    "                logits = model(x_batch)\n",
    "                loss, acc = loss_batch(logits, y_batch, loss_func)\n",
    "                val_losses.append(loss)\n",
    "                val_n_correct += acc\n",
    "            val_loss = np.sum(val_losses)/len(val_loader)\n",
    "            val_acc = val_n_correct/len(val_loader.dataset)\n",
    "\n",
    "        print(f\"Epoch {ep}:, TrainLoss: {train_loss:.2f}, TrainAcc: {train_acc:.2f}, ValLoss: {val_loss:.2f}, ValAcc: {val_acc:.2f} \")"
   ]
  },
  {
   "cell_type": "markdown",
   "metadata": {
    "id": "nlJpu8H4-aOL"
   },
   "source": [
    "Now we are ready to begin our model training! We will train for 5 epochs:"
   ]
  },
  {
   "cell_type": "code",
   "execution_count": 30,
   "metadata": {
    "colab": {
     "base_uri": "https://localhost:8080/"
    },
    "id": "UJUx4IS27yGn",
    "outputId": "3c758ab8-e15a-4f94-e914-ae82bbdc616d"
   },
   "outputs": [
    {
     "name": "stdout",
     "output_type": "stream",
     "text": [
      "Epoch 0:, TrainLoss: 2.28, TrainAcc: 0.32, ValLoss: 2.25, ValAcc: 0.55 \n",
      "Epoch 1:, TrainLoss: 2.22, TrainAcc: 0.63, ValLoss: 2.18, ValAcc: 0.68 \n",
      "Epoch 2:, TrainLoss: 2.14, TrainAcc: 0.69, ValLoss: 2.07, ValAcc: 0.71 \n",
      "Epoch 3:, TrainLoss: 1.98, TrainAcc: 0.71, ValLoss: 1.86, ValAcc: 0.73 \n",
      "Epoch 4:, TrainLoss: 1.73, TrainAcc: 0.73, ValLoss: 1.55, ValAcc: 0.75 \n"
     ]
    }
   ],
   "source": [
    "epochs=5\n",
    "fit(epochs, train_loader, val_loader, model_functional, loss_func, opt)"
   ]
  },
  {
   "cell_type": "markdown",
   "metadata": {
    "id": "YAlvdkaDxvsq"
   },
   "source": [
    "## Using Sequential API"
   ]
  },
  {
   "cell_type": "markdown",
   "metadata": {
    "id": "iNXt-8r2jWZZ"
   },
   "source": [
    "nn.Sequential is a handy class we can use to simplify our code. A Sequential object runs each of the modules contained within it, in a sequential manner. This is a simpler way of writing our MLP.\n",
    "\n",
    "To take advantage of this, we need to be able to easily define a custom layer from a given function. For instance, PyTorch doesn’t have a view layer, and we need to create one for our network. Lambda will create a layer that we can then use when defining a network with Sequential."
   ]
  },
  {
   "cell_type": "code",
   "execution_count": 31,
   "metadata": {
    "id": "Ccw9lSSBjC8U"
   },
   "outputs": [],
   "source": [
    "class Lambda(nn.Module):\n",
    "    def __init__(self, func):\n",
    "        super().__init__()\n",
    "        self.func = func\n",
    "\n",
    "    def forward(self, x):\n",
    "        return self.func(x)\n",
    "\n",
    "def preprocess(x):\n",
    "    return x.view(x.shape[0], -1)"
   ]
  },
  {
   "cell_type": "markdown",
   "metadata": {
    "id": "pmN2ThVk6g4a"
   },
   "source": [
    "Now we create the model using nn.Sequential"
   ]
  },
  {
   "cell_type": "code",
   "execution_count": 32,
   "metadata": {
    "id": "MF4LRTRd6crv"
   },
   "outputs": [],
   "source": [
    "model_sequential = nn.Sequential(\n",
    "    Lambda(preprocess),\n",
    "    nn.Linear(784, 512),\n",
    "    nn.ReLU(),\n",
    "    nn.Linear(512, 512),\n",
    "    nn.ReLU(),\n",
    "    nn.Linear(512, 10))"
   ]
  },
  {
   "cell_type": "markdown",
   "metadata": {
    "id": "mt803AXD7CBs"
   },
   "source": [
    "And that's it! This model defined using nn.Sequential is equivalent to the one we defined using Functional API. We re-use the fit and loss_batch functions defined above to train the model:"
   ]
  },
  {
   "cell_type": "code",
   "execution_count": 33,
   "metadata": {
    "colab": {
     "base_uri": "https://localhost:8080/"
    },
    "id": "yAc0ZaEf7uF8",
    "outputId": "e10248c8-8adb-42d7-d1a5-8b8b2a1b92eb"
   },
   "outputs": [
    {
     "name": "stdout",
     "output_type": "stream",
     "text": [
      "Epoch 0:, TrainLoss: 2.28, TrainAcc: 0.25, ValLoss: 2.26, ValAcc: 0.39 \n",
      "Epoch 1:, TrainLoss: 2.23, TrainAcc: 0.47, ValLoss: 2.20, ValAcc: 0.56 \n",
      "Epoch 2:, TrainLoss: 2.16, TrainAcc: 0.58, ValLoss: 2.10, ValAcc: 0.63 \n",
      "Epoch 3:, TrainLoss: 2.03, TrainAcc: 0.64, ValLoss: 1.93, ValAcc: 0.69 \n",
      "Epoch 4:, TrainLoss: 1.82, TrainAcc: 0.69, ValLoss: 1.66, ValAcc: 0.72 \n"
     ]
    }
   ],
   "source": [
    "epochs=5\n",
    "opt = get_opt(model_sequential)\n",
    "fit(epochs, train_loader, val_loader, model_sequential, loss_func, opt)"
   ]
  },
  {
   "cell_type": "markdown",
   "metadata": {
    "id": "NS-_bdSU7r8i"
   },
   "source": [
    "**Hope you enjoyed reading! Please leave questions or feedback in the comments!**"
   ]
  },
  {
   "cell_type": "code",
   "execution_count": null,
   "metadata": {
    "id": "JFuxf0obK-pd"
   },
   "outputs": [],
   "source": []
  }
 ],
 "metadata": {
  "accelerator": "GPU",
  "colab": {
   "name": "2021-01-09-Image-Classification-using-MLP-in-PyTorch.ipynb",
   "provenance": []
  },
  "kernelspec": {
   "display_name": "Python 3",
   "language": "python",
   "name": "python3"
  },
  "language_info": {
   "codemirror_mode": {
    "name": "ipython",
    "version": 3
   },
   "file_extension": ".py",
   "mimetype": "text/x-python",
   "name": "python",
   "nbconvert_exporter": "python",
   "pygments_lexer": "ipython3",
   "version": "3.6.9"
  },
  "toc": {
   "base_numbering": 1,
   "nav_menu": {},
   "number_sections": true,
   "sideBar": true,
   "skip_h1_title": true,
   "title_cell": "Table of Contents",
   "title_sidebar": "Contents",
   "toc_cell": true,
   "toc_position": {},
   "toc_section_display": true,
   "toc_window_display": false
  }
 },
 "nbformat": 4,
 "nbformat_minor": 1
}
